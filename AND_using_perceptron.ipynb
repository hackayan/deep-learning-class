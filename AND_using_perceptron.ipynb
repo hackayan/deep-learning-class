{
  "nbformat": 4,
  "nbformat_minor": 0,
  "metadata": {
    "colab": {
      "name": "AND using perceptron.ipynb",
      "provenance": []
    },
    "kernelspec": {
      "name": "python3",
      "display_name": "Python 3"
    },
    "language_info": {
      "name": "python"
    }
  },
  "cells": [
    {
      "cell_type": "code",
      "metadata": {
        "colab": {
          "base_uri": "https://localhost:8080/",
          "height": 355
        },
        "id": "sVTESWWqR3f7",
        "outputId": "94a6a8ae-aff5-4f95-b09e-d5b1eb9aa628"
      },
      "source": [
        "\n",
        "import numpy as np\n",
        "import matplotlib.pyplot as plt\n",
        "# define unit step function \n",
        "def UnitStep(v):\n",
        "  if v > 0:\n",
        "    return 1\n",
        "  else:\n",
        "     return 0\n",
        "\n",
        "# Design Perceptron model \n",
        "def  PerceptronModel(x,w,b):\n",
        "   v = np.dot(w,x) + b\n",
        "   y = UnitStep(v)\n",
        "   return y\n",
        "\n",
        "# AND Logic function \n",
        "# w1 = 1, w2 = 1 and b = -1\n",
        "def AND_logic(x):\n",
        "  w= np.array([1,1])\n",
        "  b = -1\n",
        "  return PerceptronModel(x,w,b)\n",
        "\n",
        "# Perceptron Model \n",
        "test1 = np.array([0,0])\n",
        "test2 = np.array([0,1])\n",
        "test3 = np.array([1,0])\n",
        "test4 = np.array([1,1])\n",
        "\n",
        "print(\"AND({} , {} ) = {}\".format(0,0, AND_logic(test1)))\n",
        "print(\"AND({} , {} ) = {}\".format(0,1, AND_logic(test2)))\n",
        "print(\"AND({} , {} ) = {}\".format(1,0, AND_logic(test3)))\n",
        "print(\"AND({} , {} ) = {}\".format(1,1, AND_logic(test4)))\n",
        "\n",
        "#Plotting the Perceptron \n",
        "ax = plt.subplot()\n",
        "plt.title('The AND Gate ', fontsize=20)\n",
        "X = np.arange(-0.2,1.4,0.1)\n",
        "m = -1\n",
        "c = 1.2\n",
        "# color green: is class 0 and color red is class 1.\n",
        "ax.scatter(0,0,color = \"green\")\n",
        "ax.scatter(0,1,color = \"green\")\n",
        "ax.scatter(1,0,color = \"green\")\n",
        "ax.scatter(1,1,color = \"red\")\n",
        "ax.plot(X, m * X + c)\n",
        "plt.plot()\n",
        "plt.grid()"
      ],
      "execution_count": 1,
      "outputs": [
        {
          "output_type": "stream",
          "text": [
            "AND(0 , 0 ) = 0\n",
            "AND(0 , 1 ) = 0\n",
            "AND(1 , 0 ) = 0\n",
            "AND(1 , 1 ) = 1\n"
          ],
          "name": "stdout"
        },
        {
          "output_type": "display_data",
          "data": {
            "image/png": "[encoded data removed]",
            "text/plain": [
              "<Figure size 432x288 with 1 Axes>"
            ]
          },
          "metadata": {
            "tags": [],
            "needs_background": "light"
          }
        }
      ]
    }
  ]
}