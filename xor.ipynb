{
  "nbformat": 4,
  "nbformat_minor": 0,
  "metadata": {
    "colab": {
      "name": "xor.ipynb",
      "private_outputs": true,
      "provenance": [],
      "collapsed_sections": []
    },
    "kernelspec": {
      "name": "python3",
      "display_name": "Python 3"
    },
    "language_info": {
      "name": "python"
    },
    "accelerator": "GPU"
  },
  "cells": [
    {
      "cell_type": "code",
      "metadata": {
        "id": "Ksh991GQOCn5"
      },
      "source": [
        "import numpy as np\n",
        "import matplotlib.pyplot as plt\n",
        "from matplotlib.colors import ListedColormap\n",
        " \n",
        "def plot_decision_regions(X, y, classifier, test_idx=None, resolution=0.02):\n",
        "   # setup marker generator and color map\n",
        "   markers = ('s', 'x', 'o', '^', 'v')\n",
        "   colors = ('green', 'red', 'lightgreen', 'gray', 'cyan')\n",
        "   cmap = ListedColormap(colors[:len(np.unique(y))])\n",
        " \n",
        "   # plot the decision surface\n",
        "   x1_min, x1_max = X[:, 0].min() - 1, X[:, 0].max() + 1\n",
        "   x2_min, x2_max = X[:, 1].min() - 1, X[:, 1].max() + 1\n",
        "   xx1, xx2 = np.meshgrid(np.arange(x1_min, x1_max, resolution),\n",
        "   np.arange(x2_min, x2_max, resolution))\n",
        "   Z = classifier.predict(np.array([xx1.ravel(), xx2.ravel()]).T)\n",
        "   Z = Z.reshape(xx1.shape)\n",
        "   plt.contourf(xx1, xx2, Z, alpha=0.4, cmap=cmap)\n",
        " \n",
        "   # plot all samples\n",
        "   X_test,  y_test = X[test_idx, :],y[test_idx]\n",
        "   for idx, cl in enumerate(np.unique(y)):\n",
        "      plt.scatter(x=X[y == cl, 0], y=X[y == cl, 1],\n",
        "               alpha=0.8, c=cmap(idx),\n",
        "               marker=markers[idx], label=cl)\n",
        "   # highlight test samples\n",
        "   if test_idx:\n",
        "      X_test,\n",
        "      plt.scatter(X_test[:, 0], X_test[:, 1], c='',\n",
        "               alpha=1.0, linewidth=1, marker='o',\n",
        "               s=55, label='test set')\n",
        " \n",
        "# create xor dataset\n",
        "np.random.seed(0)\n",
        "X_xor = np.random.randn(200, 2)\n",
        "y_xor = np.logical_xor(X_xor[:, 0] > 0, X_xor[:, 1] > 0)\n",
        "y_xor = np.where(y_xor, 1, -1)\n",
        " \n",
        "# implement kernel function \n",
        "from sklearn.svm import SVC\n",
        "svm = SVC(kernel='rbf', random_state=0, gamma=0.10, C=10.0)\n",
        "svm.fit(X_xor, y_xor)\n",
        " \n",
        "# draw decision boundary\n",
        "plot_decision_regions(X_xor, y_xor, classifier=svm)\n",
        "plt.legend(loc='upper left')\n",
        "plt.show()"
      ],
      "execution_count": null,
      "outputs": []
    }
  ]
}