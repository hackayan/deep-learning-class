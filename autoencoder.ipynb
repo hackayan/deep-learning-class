{
  "nbformat": 4,
  "nbformat_minor": 0,
  "metadata": {
    "colab": {
      "name": "autoencoder.ipynb",
      "provenance": []
    },
    "kernelspec": {
      "name": "python3",
      "display_name": "Python 3"
    },
    "language_info": {
      "name": "python"
    }
  },
  "cells": [
    {
      "cell_type": "code",
      "metadata": {
        "id": "MgghGw4FKPW_"
      },
      "source": [
        "import os"
      ],
      "execution_count": 1,
      "outputs": []
    },
    {
      "cell_type": "code",
      "metadata": {
        "id": "Hl16QllxMmsN"
      },
      "source": [
        "os.environ[\"CUDA_DEVICE_ORDER\"]=\"PCI_BUS_ID\"\n",
        "os.environ[\"CUDA_VISIBLE_DEVICES\"]=\"1\""
      ],
      "execution_count": 2,
      "outputs": []
    },
    {
      "cell_type": "code",
      "metadata": {
        "id": "uVJAwq33Mmo0"
      },
      "source": [
        "import keras \n",
        "from matplotlib import pyplot as plt\n",
        "import numpy as np\n",
        "import gzip\n",
        "%matplotlib inline \n",
        "from keras.layers import Input,Conv2D,MaxPooling2D,UpSampling2D\n",
        "from keras.models import Model \n",
        "from keras.optimizers import RMSprop"
      ],
      "execution_count": 3,
      "outputs": []
    },
    {
      "cell_type": "code",
      "metadata": {
        "id": "guJbW27sMmlp"
      },
      "source": [
        "def extract_data(filename, num_images):\n",
        "  with gzip.open(filename) as bytestream:\n",
        "    bytestream.read(16)\n",
        "    buf = bytestream.read(28 * 28 * num_images)\n",
        "    data = np.frombuffer(buf, dtype=np.uint8).astype(np.float32)\n",
        "    data = data.reshape(num_images, 28, 28)\n",
        "    return data"
      ],
      "execution_count": 4,
      "outputs": []
    },
    {
      "cell_type": "code",
      "metadata": {
        "id": "6Q8qEXn1MmjL"
      },
      "source": [
        "train_data = extract_data('/content/train-images-idx3-ubyte.gz',60000)\n",
        "test_data = extract_data('/content/t10k-images-idx3-ubyte.gz',10000)"
      ],
      "execution_count": null,
      "outputs": []
    },
    {
      "cell_type": "code",
      "metadata": {
        "id": "kH2heLexMmd6"
      },
      "source": [
        "def extract_labels(filename, num_images):\n",
        "  with gzip.open(filename) as bytestream:\n",
        "    bytestream.read(8)\n",
        "    buf = bytestream.read(1 * num_images)\n",
        "    labels = np.frombuffer(buf, dtype=np.uint8).astype(np.int64)\n",
        "    return labels\n"
      ],
      "execution_count": null,
      "outputs": []
    },
    {
      "cell_type": "code",
      "metadata": {
        "id": "2KGSwWHPM-k5"
      },
      "source": [
        "train_labels = extract_labels('/content/train-labels-idx1-ubyte.gz',60000)\n",
        "test_labels = extract_labels('/content/t10k-labels-idx1-ubyte.gz',10000)"
      ],
      "execution_count": null,
      "outputs": []
    },
    {
      "cell_type": "code",
      "metadata": {
        "id": "3XwMbE4DMmX5"
      },
      "source": [
        "# Create dictionary of target classes\n",
        "label_dict = {\n",
        "    0: 'A',\n",
        "    1: 'B',\n",
        "    2: 'C',\n",
        "    3: 'D',\n",
        "    4: 'E',\n",
        "    5: 'F',\n",
        "    6: 'G',\n",
        "    7: 'H',\n",
        "    8: 'I',\n",
        "    9: 'J'\n"
      ],
      "execution_count": null,
      "outputs": []
    },
    {
      "cell_type": "code",
      "metadata": {
        "id": "KHSyOx4uNOKT"
      },
      "source": [
        "# Taking a look at couple of images in the dataset\n",
        "plt.figure(figsize=[5,5])\n",
        "\n",
        "# Display the first image in training data\n",
        "plt.subplot(121)\n",
        "curr_img = np.reshape(train_data[0],(28,28))\n",
        "curr_lbl = train_labels[0]\n",
        "plt.imshow(curr_img, cmap='gray')\n",
        "plt.title(\"(Label: \" + str(label_dict[curr_lbl]) + \")\")\n",
        "\n",
        "# Display the first image in testing data\n",
        "plt.subplot(122)\n",
        "curr_img = np.reshape(test_data[0], (28,28))\n",
        "curr_lbl = test_labels[0]\n",
        "plt.imshow(curr_img, cmap='gray')\n",
        "plt.title(\"(Label: \" + str(label_dict[curr_lbl]) + \")\")"
      ],
      "execution_count": null,
      "outputs": []
    },
    {
      "cell_type": "code",
      "metadata": {
        "id": "Vr0NyXa3NOGv"
      },
      "source": [
        "train_data = train_data.reshape(-1,28,28,1)\n",
        "test_data = test_data.reshape(-1,28,28,1)\n",
        "train_data.shape, test_data.shape"
      ],
      "execution_count": null,
      "outputs": []
    },
    {
      "cell_type": "code",
      "metadata": {
        "id": "wL7SdCYfNOEZ"
      },
      "source": [
        "train_data.dtype, test_data.dtype"
      ],
      "execution_count": null,
      "outputs": []
    },
    {
      "cell_type": "code",
      "metadata": {
        "id": "IZDvZgd8NOB7"
      },
      "source": [
        "np.max(train_data), np.max(test_data)\n"
      ],
      "execution_count": null,
      "outputs": []
    },
    {
      "cell_type": "code",
      "metadata": {
        "id": "tTw_0WAOOYob"
      },
      "source": [
        "train_data = train_data / np.max(train_data)\n",
        "test_data = test_data / np.max(test_data)\n",
        "np.max(train_data), np.max(test_data)"
      ],
      "execution_count": null,
      "outputs": []
    },
    {
      "cell_type": "code",
      "metadata": {
        "id": "LNE3u7FgOOnP"
      },
      "source": [
        "from sklearn.model_selection import train_test_split\n",
        "train_X,valid_X,train_ground,valid_ground = train_test_split(train_data,\n",
        "                                train_data,test_size=0.2,random_state=13)\n"
      ],
      "execution_count": null,
      "outputs": []
    },
    {
      "cell_type": "code",
      "metadata": {
        "id": "xSNkYJg0OOj1"
      },
      "source": [
        "batch_size = 128\n",
        "epochs = 50\n",
        "inChannel = 1\n",
        "x, y = 28, 28\n",
        "input_img = Input(shape = (x, y, inChannel))"
      ],
      "execution_count": null,
      "outputs": []
    },
    {
      "cell_type": "code",
      "metadata": {
        "id": "BpUC5EpQN30v"
      },
      "source": [
        "def autoencoder(input_img):\n",
        "  #encoder\n",
        "  #input = 28 x 28 x 1 (wide and thin)\n",
        "  conv1 = Conv2D(32, (3,3), activation='relu', padding='same')(input_img) #28x28x32\n",
        "  pool1 = MaxPooling2D(pool_size=(2,2))(conv1) #14x14x32\n",
        "  conv2 = Conv2D(64, (3,3), activation ='relu',padding='same')(pool1) #14x14x64\n",
        "  pool2 = MaxPooling2D(pool_size=(2,2))(conv2) #7x7x64\n",
        "  conv3 = Conv2D(128, (3,3), activation='relu', padding='same')(pool2) #7x7x128(narrow and thick)\n",
        "\n",
        "  #decoder\n",
        "  conv4 = Conv2D(128, (3,3), activation='relu', padding='same')(conv3) #7x7x128\n",
        "  up1 = UpSampling2D((2,2))(conv4) #14x14x128\n",
        "  conv5 = Conv2D(64, (3,3), activation='relu', padding='same')(up1) #14x14x64\n",
        "  up2 = UpSampling2D((2,2))(conv5) #28x28x64\n",
        "  decoded = Conv2D(1, (3,3), activation='sigmoid', padding='same')(up2) #28x28x1\n",
        "  return decoded"
      ],
      "execution_count": null,
      "outputs": []
    },
    {
      "cell_type": "code",
      "metadata": {
        "id": "LNqud-IxN3xV"
      },
      "source": [
        "\n",
        "autoencoder = Model(input_img, autoencoder(input_img))\n",
        "autoencoder.compile(loss='mean_squared_error', optimizer = RMSprop())"
      ],
      "execution_count": null,
      "outputs": []
    },
    {
      "cell_type": "code",
      "metadata": {
        "id": "qyCzX-n7N3uq"
      },
      "source": [
        "autoencoder.summary()"
      ],
      "execution_count": null,
      "outputs": []
    },
    {
      "cell_type": "code",
      "metadata": {
        "id": "c4NvbnEhN3sJ"
      },
      "source": [
        "autoencoder_train = autoencoder.fit(train_X, train_ground, batch_size=batch_size,\n",
        "                    epochs=epochs, verbose=1, validation_data=(valid_X, valid_ground))"
      ],
      "execution_count": null,
      "outputs": []
    },
    {
      "cell_type": "code",
      "metadata": {
        "id": "Bff3i-MyN3pD"
      },
      "source": [
        "loss = autoencoder_train.history['loss']\n",
        "val_loss = autoencoder_train.history['val_loss']\n",
        "epochs = range(epochs)\n",
        "plt.figure()\n",
        "plt.plot(epochs, loss, 'bo', label='Training loss')\n",
        "plt.plot(epochs, val_loss, 'b', label='Validation loss')\n",
        "plt.title('Training and validation loss')\n",
        "plt.legend()\n",
        "plt.show()"
      ],
      "execution_count": null,
      "outputs": []
    },
    {
      "cell_type": "code",
      "metadata": {
        "id": "uJRQJL9ON3mb"
      },
      "source": [
        ""
      ],
      "execution_count": null,
      "outputs": []
    },
    {
      "cell_type": "code",
      "metadata": {
        "id": "cOdTLhufNN_M"
      },
      "source": [
        "pred = autoencoder.predict(test_data)\n",
        "pred.shape"
      ],
      "execution_count": null,
      "outputs": []
    },
    {
      "cell_type": "code",
      "metadata": {
        "id": "fT5yg8g3NNd0"
      },
      "source": [
        "plt.figure(figsize=(20,4))\n",
        "print(\"Test Images\")\n",
        "for i in range(10):\n",
        "  plt.subplot(2, 10, i+1)\n",
        "  plt.imshow(test_data[i, ...,0], cmap='gray')\n",
        "  curr_lbl = test_labels[i]\n",
        "  plt.title(\"(Label: \" + str(label_dict[curr_lbl]) + \")\")\n",
        "plt.show()\n",
        "plt.figure(figsize=(20,4))\n",
        "print(\"Reconstruction of Test Images\")\n",
        "for i in range(10):\n",
        "  plt.subplot(2, 10, i+1)\n",
        "  plt.imshow(pred[i, ..., 0], cmap = 'gray')\n",
        "plt.show()"
      ],
      "execution_count": null,
      "outputs": []
    }
  ]
}